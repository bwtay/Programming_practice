{
  "nbformat": 4,
  "nbformat_minor": 0,
  "metadata": {
    "colab": {
      "name": "IBM_DS_W04_Assignment.ipynb",
      "provenance": [],
      "authorship_tag": "ABX9TyMTmcS7/b4RLjYPPBf0nsz2",
      "include_colab_link": true
    },
    "kernelspec": {
      "name": "python3",
      "display_name": "Python 3"
    }
  },
  "cells": [
    {
      "cell_type": "markdown",
      "metadata": {
        "id": "view-in-github",
        "colab_type": "text"
      },
      "source": [
        "<a href=\"https://colab.research.google.com/github/bwtay/Programming_practice/blob/main/IBM_DS_M02_W04_Assignment.ipynb\" target=\"_parent\"><img src=\"https://colab.research.google.com/assets/colab-badge.svg\" alt=\"Open In Colab\"/></a>"
      ]
    },
    {
      "cell_type": "markdown",
      "metadata": {
        "id": "UGbpn11Pw7k8"
      },
      "source": [
        "# My Jupyter Notebook on IBM Watson Studio"
      ]
    },
    {
      "cell_type": "markdown",
      "metadata": {
        "id": "wncmoLlxw_DH"
      },
      "source": [
        "**B Tay**\r\n",
        "\r\n",
        "Data Analyst"
      ]
    },
    {
      "cell_type": "markdown",
      "metadata": {
        "id": "xMMsMRSaxGeT"
      },
      "source": [
        "I'm interested in data science because it gets me closer to programming, something I've loved and been interested in since young."
      ]
    },
    {
      "cell_type": "markdown",
      "metadata": {
        "id": "Z5S1X8hIzIRj"
      },
      "source": [
        "### Print \"Hello world\""
      ]
    },
    {
      "cell_type": "code",
      "metadata": {
        "colab": {
          "base_uri": "https://localhost:8080/"
        },
        "id": "K4pJUL9VxWKX",
        "outputId": "d92280fa-c8fb-4591-b2b5-20148fc9c589"
      },
      "source": [
        "print(\"Hello world\")"
      ],
      "execution_count": 6,
      "outputs": [
        {
          "output_type": "stream",
          "text": [
            "Hello world\n"
          ],
          "name": "stdout"
        }
      ]
    },
    {
      "cell_type": "markdown",
      "metadata": {
        "id": "Ojps_983xgxx"
      },
      "source": [
        "\r\n",
        "| S | M | A | R | T |\r\n",
        "|---|---|---|---|---|\r\n",
        "|Specific | Measurable | Aggressive | Realistic|Time-bound|\r\n",
        "\r\n",
        "As seen [here](https://www.mindtools.com/pages/article/smart-goals.htm).\r\n",
        "\r\n",
        "\r\n",
        "---\r\n",
        "\r\n"
      ]
    }
  ]
}